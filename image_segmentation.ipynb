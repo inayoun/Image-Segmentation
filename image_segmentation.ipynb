{
  "cells": [
    {
      "cell_type": "markdown",
      "metadata": {
        "id": "uDB7nty9nObC"
      },
      "source": [
        "## Imports\n",
        "\n",
        "* [NiPy](https://nipy.org/)\n",
        "* [NiLearn](https://nilearn.github.io/)\n",
        "\n",
        "\n",
        "\n"
      ]
    },
    {
      "cell_type": "code",
      "execution_count": null,
      "metadata": {
        "colab": {
          "base_uri": "https://localhost:8080/"
        },
        "id": "F4Xx-dQ1Whtu",
        "outputId": "96f1ab27-787a-4592-cf6b-651c432f99b5"
      },
      "outputs": [
        {
          "name": "stdout",
          "output_type": "stream",
          "text": [
            "Requirement already satisfied: nilearn in /usr/local/lib/python3.7/dist-packages (0.8.1)\n",
            "Requirement already satisfied: joblib>=0.12 in /usr/local/lib/python3.7/dist-packages (from nilearn) (1.0.1)\n",
            "Requirement already satisfied: nibabel>=2.5 in /usr/local/lib/python3.7/dist-packages (from nilearn) (3.0.2)\n",
            "Requirement already satisfied: scikit-learn>=0.21 in /usr/local/lib/python3.7/dist-packages (from nilearn) (0.22.2.post1)\n",
            "Requirement already satisfied: numpy>=1.16 in /usr/local/lib/python3.7/dist-packages (from nilearn) (1.19.5)\n",
            "Requirement already satisfied: pandas>=0.24.0 in /usr/local/lib/python3.7/dist-packages (from nilearn) (1.1.5)\n",
            "Requirement already satisfied: requests>=2 in /usr/local/lib/python3.7/dist-packages (from nilearn) (2.23.0)\n",
            "Requirement already satisfied: scipy>=1.2 in /usr/local/lib/python3.7/dist-packages (from nilearn) (1.4.1)\n",
            "Requirement already satisfied: pytz>=2017.2 in /usr/local/lib/python3.7/dist-packages (from pandas>=0.24.0->nilearn) (2018.9)\n",
            "Requirement already satisfied: python-dateutil>=2.7.3 in /usr/local/lib/python3.7/dist-packages (from pandas>=0.24.0->nilearn) (2.8.2)\n",
            "Requirement already satisfied: six>=1.5 in /usr/local/lib/python3.7/dist-packages (from python-dateutil>=2.7.3->pandas>=0.24.0->nilearn) (1.15.0)\n",
            "Requirement already satisfied: idna<3,>=2.5 in /usr/local/lib/python3.7/dist-packages (from requests>=2->nilearn) (2.10)\n",
            "Requirement already satisfied: urllib3!=1.25.0,!=1.25.1,<1.26,>=1.21.1 in /usr/local/lib/python3.7/dist-packages (from requests>=2->nilearn) (1.24.3)\n",
            "Requirement already satisfied: certifi>=2017.4.17 in /usr/local/lib/python3.7/dist-packages (from requests>=2->nilearn) (2021.5.30)\n",
            "Requirement already satisfied: chardet<4,>=3.0.2 in /usr/local/lib/python3.7/dist-packages (from requests>=2->nilearn) (3.0.4)\n",
            "Collecting dicom2nifti\n",
            "  Using cached dicom2nifti-2.3.0.tar.gz (33 kB)\n",
            "Requirement already satisfied: nibabel in /usr/local/lib/python3.7/dist-packages (from dicom2nifti) (3.0.2)\n",
            "Requirement already satisfied: numpy in /usr/local/lib/python3.7/dist-packages (from dicom2nifti) (1.19.5)\n",
            "Requirement already satisfied: scipy in /usr/local/lib/python3.7/dist-packages (from dicom2nifti) (1.4.1)\n",
            "Collecting pydicom>=1.3.0\n",
            "  Using cached pydicom-2.2.1-py3-none-any.whl (2.0 MB)\n",
            "Building wheels for collected packages: dicom2nifti\n",
            "  Building wheel for dicom2nifti (setup.py) ... \u001b[?25l\u001b[?25hdone\n",
            "  Created wheel for dicom2nifti: filename=dicom2nifti-2.3.0-py3-none-any.whl size=42932 sha256=ad94dcb15364839fe46706cf598e5091f1aceed9edbd1b1070785ffd8cbaf031\n",
            "  Stored in directory: /root/.cache/pip/wheels/bf/ff/aa/f5b52fd2e9f9355a28a6f6f6994d721a13209387528b146db5\n",
            "Successfully built dicom2nifti\n",
            "Installing collected packages: pydicom, dicom2nifti\n",
            "Successfully installed dicom2nifti-2.3.0 pydicom-2.2.1\n",
            "Requirement already satisfied: pathlib in /usr/local/lib/python3.7/dist-packages (1.0.1)\n"
          ]
        }
      ],
      "source": [
        "# install on first run\n",
        "\n",
        "!pip install nilearn\n",
        "!pip install dicom2nifti # if src file in dcm, not nii\n",
        "!pip install pathlib"
      ]
    },
    {
      "cell_type": "code",
      "execution_count": null,
      "metadata": {
        "id": "zajaJtJ0Se5r"
      },
      "outputs": [],
      "source": [
        "# imports \n",
        "\n",
        "from nilearn import plotting\n",
        "from nilearn import image\n",
        "import nibabel as nb\n",
        "\n",
        "import pydicom as dicom\n",
        "import dicom2nifti #if src file in dcm\n",
        "import matplotlib\n",
        "import pylab as plt\n",
        "import matplotlib.patches\n",
        "from PIL import Image\n",
        "import numpy as np\n",
        "import pandas as pd\n",
        "import scipy.ndimage as ndi\n",
        "import scipy.stats as stats\n",
        "from datetime import *\n",
        "\n",
        "import os\n",
        "from glob import glob\n",
        "from pathlib import Path\n",
        "# from collections import defaultdict\n",
        "# import pickle\n",
        "# import sys\n",
        "\n",
        "from IPython.display import Markdown, display\n",
        "from IPython.display import Image\n",
        "\n",
        "import warnings\n",
        "warnings.filterwarnings(\"ignore\", category=DeprecationWarning)"
      ]
    },
    {
      "cell_type": "markdown",
      "metadata": {
        "id": "bqHwZhIgmzDH"
      },
      "source": [
        "## Mounting"
      ]
    },
    {
      "cell_type": "code",
      "execution_count": null,
      "metadata": {
        "colab": {
          "base_uri": "https://localhost:8080/"
        },
        "id": "E0EWfrq1W8rF",
        "outputId": "b5c3d439-e219-4551-d506-390f368f1ec5"
      },
      "outputs": [
        {
          "name": "stdout",
          "output_type": "stream",
          "text": [
            "Mounted at gdrive/\n"
          ]
        }
      ],
      "source": [
        "# Mount Google Drive\n",
        "\n",
        "from google.colab import drive\n",
        "\n",
        "drive.mount('gdrive/')\n",
        "# Directions: \n",
        "#  1) run cell, 2) click link, 3) choose acount & sign in, 4) copy authorization code, 5) Paste & Enter, 6) wait patiently."
      ]
    },
    {
      "cell_type": "markdown",
      "metadata": {
        "id": "GZk_0yvLbns-"
      },
      "source": [
        "## Pathing"
      ]
    },
    {
      "cell_type": "code",
      "execution_count": null,
      "metadata": {
        "colab": {
          "base_uri": "https://localhost:8080/",
          "height": 54
        },
        "id": "6zJzdVO8CySk",
        "outputId": "07716ce4-b256-4c92-8625-2bac2a94cc48"
      },
      "outputs": [],
      "source": [
        "src = '/content/gdrive/My Drive/SNUBH/RodNiPy/data/PETandCT/'\n",
        "pth = src + '2020/' + '20201111_BA-1907-276-052-05_F-18-FDG_LHY/' + '1/'\n",
        "ct_pth = pth + 'CT'\n",
        "pet_pth = pth + 'PET'\n",
        "ans_pth = pth + 'Answer/'\n",
        "wb_name = '20201111_WB_No1_CT.nii'\n",
        "wb_path = ans_pth + wb_name\n",
        "Path(pth + 'Results/').mkdir(parents=True, exist_ok=True)  # create dir if nonexistant\n",
        "rslt_pth = os.path.join(pth, 'Results')\n",
        "wb_path"
      ]
    },
    {
      "cell_type": "markdown",
      "metadata": {
        "id": "ZHYObn_-bBta"
      },
      "source": [
        "# CT"
      ]
    },
    {
      "cell_type": "markdown",
      "metadata": {
        "id": "w7SfUo93qEQ2"
      },
      "source": [
        "# Head Segmentation"
      ]
    },
    {
      "cell_type": "code",
      "execution_count": null,
      "metadata": {
        "id": "NnssClwa7-Ev"
      },
      "outputs": [],
      "source": [
        "head_arr = wb_arr[210:-210, wb_z_y_range[0]:wb_z_y_range[-1], 330:-35]\n",
        "head_arr.shape"
      ]
    },
    {
      "cell_type": "code",
      "execution_count": null,
      "metadata": {
        "id": "YpzTb6f3U1VD"
      },
      "outputs": [],
      "source": [
        "# niify\n",
        "head_img = nb.Nifti1Image(head_arr, affine=np.eye(4))"
      ]
    },
    {
      "cell_type": "code",
      "execution_count": null,
      "metadata": {
        "id": "KbHv29swBCFn"
      },
      "outputs": [],
      "source": [
        "# visualize\n",
        "# WB-segmented mid-point y-coord\n",
        "\n",
        "plotting.plot_matrix(wb_arr[:, int(np.median(wb_z_y_range)), :])"
      ]
    },
    {
      "cell_type": "code",
      "execution_count": null,
      "metadata": {
        "id": "uX_P17907KAP"
      },
      "outputs": [],
      "source": [
        "# visualize\n",
        "# WB-segmented mid-point y-coord\n",
        "plotting.plot_matrix(head_arr[:, 35, :])"
      ]
    },
    {
      "cell_type": "code",
      "execution_count": null,
      "metadata": {
        "id": "BfxmK0sWCryF"
      },
      "outputs": [],
      "source": [
        "# # Visualization head_arr\n",
        "#\n",
        "plotting.view_img(head_img, bg_img=False, title=\"head_img\", cmap='cold_hot')   "
      ]
    },
    {
      "cell_type": "code",
      "execution_count": null,
      "metadata": {
        "id": "-XF1gTUFGDYj"
      },
      "outputs": [],
      "source": [
        "# # Visualization wb_arr\n",
        "#\n",
        "plotting.view_img(wb_img, bg_img=False, title=\"wb_arr\", cmap='cold_hot')  "
      ]
    },
    {
      "cell_type": "code",
      "execution_count": null,
      "metadata": {
        "id": "YZCYRDQeE6jA"
      },
      "outputs": [],
      "source": [
        "# Saver\n",
        "\n",
        "print('Save? (Y/N): ')\n",
        "inp = input().capitalize()\n",
        "if inp =='Y':\n",
        "  hd_name = wb_name.replace('WB', 'HD')\n",
        "  nb.save(head_img, os.path.join(rslt_pth, hd_name) )\n",
        "  print(hd_name, 'saved in ', rslt_pth)"
      ]
    },
    {
      "cell_type": "code",
      "execution_count": null,
      "metadata": {
        "id": "sVEqwdwSa6WJ"
      },
      "outputs": [],
      "source": [
        "# find max abs z-score slice\n",
        "\n",
        "max_z = 0\n",
        "max_z_i = 0\n",
        "\n",
        "for i, value in enumerate(head_y_sums_z):\n",
        "  if abs(value) > max_z:\n",
        "    max_z = abs(value)\n",
        "    max_z_i = i\n",
        "\n",
        "#max_z_i = wb_z_y_range[max_z_i]\n",
        "print(max_z_i, max_z, head_y_sums_z[max_z_i]) #test\n",
        "print(wb_z_y_range[max_z_i])"
      ]
    },
    {
      "cell_type": "code",
      "execution_count": null,
      "metadata": {
        "id": "CU9dAdjOY1Rf"
      },
      "outputs": [],
      "source": [
        "# find max\n",
        "\n",
        "# initalize\n",
        "max_head = 0\n",
        "max_labels = np.zeros(wb_arr.shape)\n",
        "prev_sum = 0\n",
        "lab_ind = -1\n",
        "\n",
        "for i in wb_z_y_range:  \n",
        "  if head_mask_sum != prev_sum: #filter for non-sames\n",
        "    prev_sum = head_mask_sum\n",
        "\n",
        "    if head_mask_sum > max_head:\n",
        "      max_head = head_mask_sum\n",
        "      max_labels = labels\n",
        "      lab_ind = head_label\n",
        "\n",
        "print('max_head', max_head)\n",
        "\n",
        "#mask\n",
        "true_mask = np.where(max_labels == lab_ind, 1 ,np.nan).astype(int)\n",
        "print('true_mask shape', true_mask.shape) "
      ]
    },
    {
      "cell_type": "code",
      "execution_count": null,
      "metadata": {
        "id": "c7hSZqiYW5XZ"
      },
      "outputs": [],
      "source": [
        "# create 3D box\n",
        "\n",
        "# 3D box label\n",
        "loc = ndi.find_objects(true_mask)[0] # x, z coord of true_mask\n",
        "print('loc:', loc)\n",
        "\n",
        "x1 = loc[0].start-2 if loc[0].start >= 2 else loc[0].start\n",
        "x2 = loc[0].stop+2 if loc[0].stop+2 < wb_arr.shape[0] else loc[0].stop\n",
        "y1 = y_list[0]\n",
        "y2 = y_list[-1]\n",
        "z1 = loc[1].start-2 if loc[1].start >= 2 else loc[1].start\n",
        "z2 = loc[1].stop+2 if loc[1].stop+2 < wb_arr.shape[2] else loc[1].stop\n",
        "\n",
        "\n",
        "#apply box to all slices\n",
        "_3d_mask = np.zeros([x2-x1, y2-y1, z2-z1])\n",
        "print('initial _3d_mask shp:', _3d_mask.shape)\n",
        "print('y2 - y1:', y2 - y1)\n",
        "print('np.arange(y1,y2).shape:', np.arange(y1,y2) )\n",
        "cnt = 0\n",
        "\n",
        "for i in np.arange(y1,y2): \n",
        "  print('wb_arr[x1:x2, i, z1:z2].shp', wb_arr[x1:x2, i, z1:z2].shape)\n",
        "  _3d_mask[:, i,:] = wb_arr[x1:x2, i, z1:z2]\n",
        "  cnt += 1\n",
        "print('cnt', cnt)\n",
        "\n",
        "print('post _3d_mask shp:', _3d_mask.shape)\n",
        "\n",
        "ni_br = nb.Nifti1Image(_3d_mask, wb_img.affine)\n",
        "print(\"ni_br.shape\", ni_br.shape)"
      ]
    },
    {
      "cell_type": "code",
      "execution_count": null,
      "metadata": {
        "id": "lCeJRxuX_GcF"
      },
      "outputs": [],
      "source": [
        "### Head Segmentation Function1 ###\n",
        "# Method1: Find head blob of each Y slice, pick the largest head blob slice, \n",
        "#          then create manual 3D box around the slice's central point\n",
        "# format: [x, y, z]\n",
        "\n",
        "def headSeg(wb_path):\n",
        "  wb_img_og = nb.load(wb_path)\n",
        "  #print('pre-squeeze wb_img_og.shape =', wb_img_og.shape) #TEST\n",
        "  wb_img = nb.squeeze_image(wb_img_og) # squeeze to 3D\n",
        "  #print('post-squeeze wb_img.shape =', wb_img.shape) #TEST\n",
        "  wb_arr = np.array(wb_img.dataobj)\n",
        "\n",
        "  #find best ref slice \n",
        "  num_slices = wb_arr.shape[1] # y-axis\n",
        "\n",
        "  #initalize best ref finder vars\n",
        "  max_head = 0\n",
        "  max_labels = np.zeros(wb_arr.shape)\n",
        "  lab_ind = -1\n",
        "  y_list = []\n",
        "  prev_sum = 0\n",
        "\n",
        "  #find best reference slice, i.e the largest brain slice\n",
        "  for i in range(num_slices):  \n",
        "    curr_slice = wb_arr[:,i,:]\n",
        "\n",
        "    mask_thresh = np.where(curr_slice > 300, 1,0) #300 is brightness\n",
        "    mask = ndi.binary_closing(mask_thresh)\n",
        "\n",
        "    labels, nlabels = ndi.label(mask)\n",
        "    head_val = labels[10:30,100:140]  ############## HC approx. head loc\n",
        "    head_label = np.max(head_val)\n",
        "    head_mask = np.where(labels == head_label,1,0)  \n",
        "    head_mask_sum = np.sum(head_mask)\n",
        "\n",
        "    if head_mask_sum != prev_sum and head_mask_sum != 223166: #filter for non-sames\n",
        "      y_list.append(i)\n",
        "      prev_sum = head_mask_sum\n",
        "\n",
        "      if head_mask_sum > max_head:\n",
        "        max_head = head_mask_sum\n",
        "        max_labels = labels\n",
        "        lab_ind = head_label\n",
        "\n",
        "  print('y_list len', len(y_list))\n",
        "  print('max_head', max_head)\n",
        "\n",
        "  #mask\n",
        "  true_mask = np.where(max_labels == lab_ind, 1 ,np.nan).astype(int)\n",
        "\n",
        "  # 3D box label\n",
        "  loc = ndi.find_objects(true_mask)[0] # x, z coord of true_mask\n",
        "\n",
        "  x1 = loc[0].start-2 if loc[0].start >= 2 else loc[0].start\n",
        "  x2 = loc[0].stop+2 if loc[0].stop+2 < wb_arr.shape[0] else loc[0].stop\n",
        "  y1 = y_list[0]\n",
        "  y2 = y_list[-1]\n",
        "  z1 = loc[1].start-2 if loc[1].start >= 2 else loc[1].start\n",
        "  z2 = loc[1].stop+2 if loc[1].stop+2 < wb_arr.shape[2] else loc[1].stop\n",
        "\n",
        "\n",
        "  #apply box to all slices\n",
        "  _3d_mask = np.zeros([x2-x1, y2-y1, z2-z1])\n",
        "  cnt = 0\n",
        "\n",
        "  for i in np.arange(y1,y2): \n",
        "    print('wb_arr[x1:x2, i, z1:z2].shp', wb_arr[x1:x2, i, z1:z2].shape)\n",
        "    _3d_mask[:, i,:] = wb_arr[x1:x2, i, z1:z2]\n",
        "    cnt += 1\n",
        "  print('cnt', cnt)\n",
        "\n",
        "  print('post _3d_mask shp:', _3d_mask.shape)\n",
        "\n",
        "  ni_br = nb.Nifti1Image(_3d_mask, wb_img.affine)\n",
        "  print(\"ni_br.shape\", ni_br.shape)\n",
        "      \n",
        "  #  return ni_br"
      ]
    },
    {
      "cell_type": "code",
      "execution_count": null,
      "metadata": {
        "id": "USoF8xjOFndM"
      },
      "outputs": [],
      "source": [
        "max_head_nii = nb.Nifti1Image(true_mask, wb_img.affine)\n",
        "max_head_nii.shape"
      ]
    },
    {
      "cell_type": "code",
      "execution_count": null,
      "metadata": {
        "id": "qrHhSzGSN3De"
      },
      "outputs": [],
      "source": [
        "# # call headSeg() # to be iterated on all mice\n",
        "# ni_br = headSeg(wb_path)\n",
        "# ni_br"
      ]
    },
    {
      "cell_type": "code",
      "execution_count": null,
      "metadata": {
        "id": "M_89vL6lCtat"
      },
      "outputs": [],
      "source": [
        "# Saver\n",
        "\n",
        "print('Save? (Y/N): ')\n",
        "inp = input().capitalize()\n",
        "if inp =='Y':\n",
        "  br_name = wb_name.replace('WB', 'BR')\n",
        "  nb.save(ni_br, rslt_pth + br_name)\n",
        "  print(br_name + 'saved in ' + rslt_pth)"
      ]
    },
    {
      "cell_type": "code",
      "execution_count": null,
      "metadata": {
        "id": "NnX27JwuOIKG"
      },
      "outputs": [],
      "source": [
        "# # 3D Visualization\n",
        "\n",
        "# # WB plot\n",
        "# print(wb_img.shape)\n",
        "# plotting.plot_stat_map(wb_img_og, bg_img=None, colorbar=False, cmap='bone', black_bg=True)  \n",
        "\n",
        "# # BR plot\n",
        "# plotting.plot_stat_map(nb.load(rslt_pth + br_name), bg_img=None, colorbar=False, cmap='bone', black_bg=True)"
      ]
    }
  ],
  "metadata": {
    "colab": {
      "collapsed_sections": [
        "uDB7nty9nObC",
        "bqHwZhIgmzDH",
        "GZk_0yvLbns-"
      ],
      "name": "RodNiPy_alpha01.ipynb",
      "provenance": []
    },
    "kernelspec": {
      "display_name": "Python 3",
      "name": "python3"
    },
    "language_info": {
      "name": "python"
    }
  },
  "nbformat": 4,
  "nbformat_minor": 0
}
